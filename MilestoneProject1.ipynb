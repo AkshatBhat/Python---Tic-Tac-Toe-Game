{
 "cells": [
  {
   "cell_type": "code",
   "execution_count": 4,
   "metadata": {},
   "outputs": [
    {
     "name": "stdout",
     "output_type": "stream",
     "text": [
      "Welcome to Tic Tac Toe!\n",
      "   |   |   \n",
      "--- --- ---\n",
      "   |   |   \n",
      "--- --- ---\n",
      "   |   |   \n",
      "Input will be asked again and again until correct data is fed!\n"
     ]
    },
    {
     "name": "stdin",
     "output_type": "stream",
     "text": [
      "Player 1 Choose 'X' or 'O':  X\n"
     ]
    },
    {
     "name": "stdout",
     "output_type": "stream",
     "text": [
      "Player 1 plays as 'X'\n",
      "Player 2 plays as 'O'\n",
      "At Random, Player 2 will go first...\n"
     ]
    },
    {
     "name": "stdin",
     "output_type": "stream",
     "text": [
      "Player 2 --> O your move position:  4\n"
     ]
    },
    {
     "name": "stdout",
     "output_type": "stream",
     "text": [
      "   |   |   \n",
      "--- --- ---\n",
      " O |   |   \n",
      "--- --- ---\n",
      "   |   |   \n"
     ]
    },
    {
     "name": "stdin",
     "output_type": "stream",
     "text": [
      "Player 1 --> X your move position:  5\n"
     ]
    },
    {
     "name": "stdout",
     "output_type": "stream",
     "text": [
      "   |   |   \n",
      "--- --- ---\n",
      " O | X |   \n",
      "--- --- ---\n",
      "   |   |   \n"
     ]
    },
    {
     "name": "stdin",
     "output_type": "stream",
     "text": [
      "Player 2 --> O your move position:  9\n"
     ]
    },
    {
     "name": "stdout",
     "output_type": "stream",
     "text": [
      "   |   | O \n",
      "--- --- ---\n",
      " O | X |   \n",
      "--- --- ---\n",
      "   |   |   \n"
     ]
    },
    {
     "name": "stdin",
     "output_type": "stream",
     "text": [
      "Player 1 --> X your move position:  1\n"
     ]
    },
    {
     "name": "stdout",
     "output_type": "stream",
     "text": [
      "   |   | O \n",
      "--- --- ---\n",
      " O | X |   \n",
      "--- --- ---\n",
      " X |   |   \n"
     ]
    },
    {
     "name": "stdin",
     "output_type": "stream",
     "text": [
      "Player 2 --> O your move position:  8\n"
     ]
    },
    {
     "name": "stdout",
     "output_type": "stream",
     "text": [
      "   | O | O \n",
      "--- --- ---\n",
      " O | X |   \n",
      "--- --- ---\n",
      " X |   |   \n"
     ]
    },
    {
     "name": "stdin",
     "output_type": "stream",
     "text": [
      "Player 1 --> X your move position:  3\n"
     ]
    },
    {
     "name": "stdout",
     "output_type": "stream",
     "text": [
      "   | O | O \n",
      "--- --- ---\n",
      " O | X |   \n",
      "--- --- ---\n",
      " X |   | X \n"
     ]
    },
    {
     "name": "stdin",
     "output_type": "stream",
     "text": [
      "Player 2 --> O your move position:  7\n"
     ]
    },
    {
     "name": "stdout",
     "output_type": "stream",
     "text": [
      " O | O | O \n",
      "--- --- ---\n",
      " O | X |   \n",
      "--- --- ---\n",
      " X |   | X \n",
      "Player 2 has WON!!\n"
     ]
    }
   ],
   "source": [
    "def display_board(board):\n",
    "    print(' '+board[7]+' '+'|'+' '+board[8]+' '+'|'+' '+board[9]+' ')\n",
    "    print('--- --- ---')\n",
    "    print(' '+board[4]+' '+'|'+' '+board[5]+' '+'|'+' '+board[6]+' ')\n",
    "    print('--- --- ---')\n",
    "    print(' '+board[1]+' '+'|'+' '+board[2]+' '+'|'+' '+board[3]+' ')\n",
    "    \n",
    "\n",
    "def player_input():\n",
    "    print('Input will be asked again and again until correct data is fed!')\n",
    "    player1_marker = ''\n",
    "    player2_marker = ''\n",
    "    player1_marker = input(\"Player 1 Choose 'X' or 'O': \")\n",
    "    \n",
    "    while player1_marker!='X' and player1_marker!='O':\n",
    "        player1_marker = input(\"Player 1 Choose 'X' or 'O': \")\n",
    "        \n",
    "    if player1_marker=='X':\n",
    "        player2_marker = 'O'\n",
    "        print(\"Player 1 plays as 'X'\")\n",
    "        print(\"Player 2 plays as 'O'\")\n",
    "        return (player1_marker,player2_marker)\n",
    "    else:\n",
    "        player2_marker = 'X'\n",
    "        print(\"Player 1 plays as 'O'\")\n",
    "        print(\"Player 2 plays as 'X'\")\n",
    "        return (player1_marker,player2_marker)\n",
    "        \n",
    "        \n",
    "\n",
    "def place_marker(board, marker, position):\n",
    "    if board[position]==' ':\n",
    "        board[position] = marker\n",
    "        \n",
    "        \n",
    "        \n",
    "def win_check(board, mark):\n",
    "    return mark==board[7]==board[8]==board[9] or mark==board[4]==board[5]==board[6] or mark==board[1]==board[2]==board[3] or mark==board[7]==board[4]==board[1] or mark==board[8]==board[5]==board[2] or mark==board[9]==board[6]==board[3] or mark==board[7]==board[5]==board[3] or mark==board[9]==board[5]==board[1]\n",
    "\n",
    "\n",
    "\n",
    "from random import randint\n",
    "def choose_first():\n",
    "    return randint(1,2)\n",
    "    \n",
    "    \n",
    "    \n",
    "def space_check(board, position):\n",
    "    if board[position]!=' ':\n",
    "        return False\n",
    "    else:\n",
    "        return True\n",
    "        \n",
    "        \n",
    "def full_board_check(board):\n",
    "    for i in board[1:]:\n",
    "        if i==' ':\n",
    "            return False\n",
    "    return True\n",
    "    \n",
    "    \n",
    "def player_choice(i,z,board):\n",
    "    move = int(input('Player {} --> {} your move position: '.format(i,z)))\n",
    "    if space_check(board,move):\n",
    "        return move\n",
    "    else:\n",
    "        return -1\n",
    "        \n",
    "flag = False\n",
    "print('Welcome to Tic Tac Toe!')\n",
    "test_board = ['@',' ',' ',' ',' ',' ',' ',' ',' ',' ']\n",
    "display_board(test_board)\n",
    "(p1,p2) = player_input()\n",
    "first = choose_first()\n",
    "print('At Random, Player {} will go first...'.format(first))\n",
    "\n",
    "if first==1:\n",
    "    \n",
    "    while True:\n",
    "        m1 = player_choice(1,p1,test_board)\n",
    "        while (m1)==-1:\n",
    "            print('Position already taken ...')\n",
    "            m1 = player_choice(1,p1,test_board)\n",
    "        place_marker(test_board,p1,m1)\n",
    "        display_board(test_board)\n",
    "        if win_check(test_board,p1):\n",
    "            print(\"Player 1 has WON!!\")\n",
    "            flag = True\n",
    "            break   \n",
    "        if full_board_check(test_board):\n",
    "            break\n",
    "        \n",
    "        m2 = player_choice(2,p2,test_board)\n",
    "        while (m2)==-1:\n",
    "            print('Position already taken ...')\n",
    "            m2 = player_choice(2,p2,test_board)\n",
    "        place_marker(test_board,p2,m2)\n",
    "        display_board(test_board)\n",
    "        if win_check(test_board,p2):\n",
    "            print(\"Player 2 has WON!!\")\n",
    "            flag = True\n",
    "            break\n",
    "        if full_board_check(test_board):\n",
    "            break\n",
    "    if not flag:\n",
    "        print(\"GAME DRAW!!\")\n",
    "\n",
    "if first==2:\n",
    "        \n",
    "    while True:\n",
    "        m2 = player_choice(2,p2,test_board)\n",
    "        while (m2)==-1:\n",
    "            print('Position already taken ...')\n",
    "            m2 = player_choice(2,p2,test_board)\n",
    "        place_marker(test_board,p2,m2)\n",
    "        display_board(test_board)\n",
    "        if win_check(test_board,p2):\n",
    "            print(\"Player 2 has WON!!\")\n",
    "            flag = True\n",
    "            break\n",
    "        if full_board_check(test_board):\n",
    "            break\n",
    "        \n",
    "        m1 = player_choice(1,p1,test_board)\n",
    "        while (m1)==-1:\n",
    "            print('Position already taken ...')\n",
    "            m1 = player_choice(1,p1,test_board)\n",
    "        place_marker(test_board,p1,m1)\n",
    "        display_board(test_board)\n",
    "        if win_check(test_board,p1):\n",
    "            print(\"Player 1 has WON!!\")\n",
    "            flag = True\n",
    "            break \n",
    "        if full_board_check(test_board):\n",
    "            break\n",
    "    if not flag:\n",
    "        print(\"GAME DRAW\")        "
   ]
  },
  {
   "cell_type": "code",
   "execution_count": null,
   "metadata": {},
   "outputs": [],
   "source": []
  }
 ],
 "metadata": {
  "kernelspec": {
   "display_name": "Python 3",
   "language": "python",
   "name": "python3"
  },
  "language_info": {
   "codemirror_mode": {
    "name": "ipython",
    "version": 3
   },
   "file_extension": ".py",
   "mimetype": "text/x-python",
   "name": "python",
   "nbconvert_exporter": "python",
   "pygments_lexer": "ipython3",
   "version": "3.7.4"
  }
 },
 "nbformat": 4,
 "nbformat_minor": 4
}
